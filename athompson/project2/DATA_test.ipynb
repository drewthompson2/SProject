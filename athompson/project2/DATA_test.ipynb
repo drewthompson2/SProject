{
 "cells": [
  {
   "cell_type": "code",
   "execution_count": 1,
   "metadata": {
    "collapsed": false
   },
   "outputs": [
    {
     "data": {
      "text/html": [
       "<style>.container { width:96% !important; }</style>"
      ],
      "text/plain": [
       "<IPython.core.display.HTML object>"
      ]
     },
     "metadata": {},
     "output_type": "display_data"
    }
   ],
   "source": [
    "import os, sys, platform, getpass, re\n",
    "sys.path.append('/Users/athompson/jupyternotebooks/code/')\n",
    "import numpy as np\n",
    "import pandas as pd\n",
    "import matplotlib as mpl\n",
    "import matplotlib.pyplot as plt\n",
    "%matplotlib inline\n",
    "\n",
    "# Import the EDA modules\n",
    "import patientbase_api as pb\n",
    "import plm_informatics as plm\n",
    "import stats\n",
    "import viz\n",
    "\n",
    "#widen jupyter\n",
    "from IPython.core.display import display, HTML\n",
    "display(HTML(\"<style>.container { width:96% !important; }</style>\"))\n",
    "pd.options.display.max_columns = 50"
   ]
  },
  {
   "cell_type": "code",
   "execution_count": 31,
   "metadata": {
    "collapsed": false
   },
   "outputs": [],
   "source": [
    "# Where to put shit\n",
    "datadir = './data_asthma'\n",
    "resultsdir = './results_asthma'\n",
    "!mkdir $datadir\n",
    "!mkdir $resultsdir"
   ]
  },
  {
   "cell_type": "code",
   "execution_count": 2,
   "metadata": {
    "collapsed": false
   },
   "outputs": [
    {
     "name": "stdout",
     "output_type": "stream",
     "text": [
      "Enter password for athompson on plm_nightly: ········\n"
     ]
    }
   ],
   "source": [
    "# DB connection params (if dbserver == None, PatientBase is assumed)\n",
    "dbserver = None\n",
    "dbuser = 'athompson'\n",
    "dbname = 'plm_nightly'\n",
    "\n",
    "db = plm.DBConnect('patientbase', user=dbuser, database=dbname)"
   ]
  }
 ],
 "metadata": {
  "kernelspec": {
   "display_name": "Python 2",
   "language": "python",
   "name": "python2"
  },
  "language_info": {
   "codemirror_mode": {
    "name": "ipython",
    "version": 2
   },
   "file_extension": ".py",
   "mimetype": "text/x-python",
   "name": "python",
   "nbconvert_exporter": "python",
   "pygments_lexer": "ipython2",
   "version": "2.7.13"
  }
 },
 "nbformat": 4,
 "nbformat_minor": 2
}
